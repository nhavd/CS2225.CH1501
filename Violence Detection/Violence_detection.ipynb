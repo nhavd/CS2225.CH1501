{
  "nbformat": 4,
  "nbformat_minor": 0,
  "metadata": {
    "colab": {
      "name": "Violence_detection.ipynb",
      "provenance": [],
      "collapsed_sections": [],
      "machine_shape": "hm"
    },
    "kernelspec": {
      "name": "python3",
      "display_name": "Python 3"
    },
    "accelerator": "GPU"
  },
  "cells": [
    {
      "cell_type": "code",
      "execution_count": 1,
      "metadata": {
        "colab": {
          "base_uri": "https://localhost:8080/"
        },
        "id": "ujPWQNx8kJcZ",
        "outputId": "5f62ce04-c5f8-4644-b6d1-3bbc3821792c"
      },
      "outputs": [
        {
          "name": "stdout",
          "output_type": "stream",
          "text": [
            "Drive already mounted at /content/drive/; to attempt to forcibly remount, call drive.mount(\"/content/drive/\", force_remount=True).\n"
          ]
        }
      ],
      "source": [
        "from google.colab import drive\n",
        "drive.mount('/content/drive/')\n"
      ]
    },
    {
      "cell_type": "code",
      "execution_count": 2,
      "metadata": {
        "colab": {
          "base_uri": "https://localhost:8080/"
        },
        "id": "w7iKKp-yLoyR",
        "outputId": "c9e31d75-b8c2-4df1-bddd-f98cd6b675ba"
      },
      "outputs": [
        {
          "name": "stdout",
          "output_type": "stream",
          "text": [
            "cp: missing destination file operand after './drive/MyDrive/Colab Notebooks/data'\n",
            "Try 'cp --help' for more information.\n"
          ]
        }
      ],
      "source": [
        ""
      ]
    },
    {
      "cell_type": "code",
      "execution_count": 3,
      "metadata": {
        "id": "c5Uw6X5BhD5L"
      },
      "outputs": [],
      "source": [
        "!cp './drive/MyDrive/Colab Notebooks/dataset/Peliculas.zip'  ./Peliculas.zip"
      ]
    },
    {
      "cell_type": "code",
      "execution_count": 4,
      "metadata": {
        "colab": {
          "base_uri": "https://localhost:8080/"
        },
        "id": "v8YKLIt2hsZ-",
        "outputId": "74c0b8ef-2402-42ec-a674-793f5c552563"
      },
      "outputs": [
        {
          "name": "stdout",
          "output_type": "stream",
          "text": [
            "Archive:  ./Peliculas.zip\n",
            "replace Peliculas/fights/newfi1.avi? [y]es, [n]o, [A]ll, [N]one, [r]ename: "
          ]
        }
      ],
      "source": [
        "!unzip ./Peliculas.zip "
      ]
    },
    {
      "cell_type": "code",
      "execution_count": 5,
      "metadata": {
        "colab": {
          "base_uri": "https://localhost:8080/"
        },
        "id": "wo6g055PkMuz",
        "outputId": "efe41dc2-7cc6-4bc6-e7eb-bba7bb28e22f"
      },
      "outputs": [
        {
          "name": "stdout",
          "output_type": "stream",
          "text": [
            "Requirement already satisfied: scikit-video in /usr/local/lib/python3.6/dist-packages (1.1.11)\n",
            "Requirement already satisfied: pillow in /usr/local/lib/python3.6/dist-packages (from scikit-video) (7.0.0)\n",
            "Requirement already satisfied: numpy in /usr/local/lib/python3.6/dist-packages (from scikit-video) (1.18.5)\n",
            "Requirement already satisfied: scipy in /usr/local/lib/python3.6/dist-packages (from scikit-video) (1.4.1)\n"
          ]
        }
      ],
      "source": [
        "import time\n",
        "import sys\n",
        "import pandas as pd\n",
        "import numpy as np\n",
        "import cv2\n",
        "import pickle\n",
        "import skvideo.io\n",
        "import h5py\n",
        "from tables import *\n",
        "from sklearn import metrics\n",
        "import matplotlib.pyplot as plt\n",
        "from google.colab.patches import cv2_imshow\n",
        "from sklearn.model_selection import train_test_split\n",
        "import tensorflow\n",
        "from tensorflow.keras.utils import to_categorical\n",
        "from tensorflow.keras.applications import VGG19,ResNet50\n",
        "from tensorflow.keras.layers import LSTM , Dense , TimeDistributed, Flatten, Dropout, GlobalAveragePooling2D, GlobalAveragePooling1D, Input\n",
        "from tensorflow.keras.layers import Reshape, BatchNormalization ,ConvLSTM2D\n",
        "from tensorflow.keras.models import Sequential\n",
        "from tensorflow.keras.optimizers import Adam , RMSprop, SGD\n",
        "\n",
        "#Parameters\n",
        "NUMBER_OF_FRAMES = 20\n",
        "IMAGE_SIZE = 160\n",
        "IMAGE_CHANNELS = 3"
      ]
    },
    {
      "cell_type": "code",
      "execution_count": 6,
      "metadata": {
        "colab": {
          "base_uri": "https://localhost:8080/"
        },
        "id": "Gw9ozAJGkMrH",
        "outputId": "17127dd3-3ff5-4365-938d-2f1079657dfd"
      },
      "outputs": [
        {
          "data": {
            "text/plain": [
              "<bound method NDFrame.head of          video_name  tag\n",
              "0      fi1_xvid.avi    1\n",
              "1      no1_xvid.avi    0\n",
              "2      fi2_xvid.avi    1\n",
              "3      no2_xvid.avi    0\n",
              "4      fi3_xvid.avi    1\n",
              "..              ...  ...\n",
              "995  no498_xvid.avi    0\n",
              "996  fi499_xvid.avi    1\n",
              "997  no499_xvid.avi    0\n",
              "998  fi500_xvid.avi    1\n",
              "999  no500_xvid.avi    0\n",
              "\n",
              "[1000 rows x 2 columns]>"
            ]
          },
          "execution_count": 6,
          "metadata": {
            "tags": []
          },
          "output_type": "execute_result"
        }
      ],
      "source": [
        "dtframe = pd.DataFrame()\n",
        "vid = []\n",
        "lab = []\n",
        "for i in range(500):\n",
        "  vid.append(\"fi\"+ str(i+1) +\"_xvid.avi\")\n",
        "  lab.append(1)\n",
        "  vid.append(\"no\"+ str(i+1) +\"_xvid.avi\")\n",
        "  lab.append(0)\n",
        "dtframe['video_name'] = vid\n",
        "dtframe['tag'] = lab\n",
        "dtframe.head"
      ]
    },
    {
      "cell_type": "code",
      "execution_count": 7,
      "metadata": {
        "colab": {
          "base_uri": "https://localhost:8080/"
        },
        "id": "UdhQv9mGkMo0",
        "outputId": "5e076bb7-46ec-4d81-8732-5200f00b6abd"
      },
      "outputs": [
        {
          "data": {
            "text/plain": [
              "<bound method NDFrame.head of                          video_name  tag\n",
              "0      ./Peliculas/fights/newv1.mp4    1\n",
              "1        ./Peliculas/noFights/1.mpg    0\n",
              "2      ./Peliculas/fights/newv2.mp4    1\n",
              "3        ./Peliculas/noFights/2.mpg    0\n",
              "4      ./Peliculas/fights/newv3.mp4    1\n",
              "..                              ...  ...\n",
              "195     ./Peliculas/noFights/98.mpg    0\n",
              "196   ./Peliculas/fights/newv99.mp4    1\n",
              "197     ./Peliculas/noFights/99.mpg    0\n",
              "198  ./Peliculas/fights/newv100.mp4    1\n",
              "199    ./Peliculas/noFights/100.mpg    0\n",
              "\n",
              "[200 rows x 2 columns]>"
            ]
          },
          "execution_count": 7,
          "metadata": {
            "tags": []
          },
          "output_type": "execute_result"
        }
      ],
      "source": [
        "dtframe2 = pd.DataFrame()\n",
        "vid2 = []\n",
        "lab2 = []\n",
        "for i in range(100):\n",
        "  vid2.append(\"./Peliculas/fights/newv\"+ str(i+1) +\".mp4\")\n",
        "  lab2.append(1)\n",
        "  vid2.append(\"./Peliculas/noFights/\" + str(i+1) +\".mpg\")\n",
        "  lab2.append(0)\n",
        "dtframe2['video_name'] = vid2\n",
        "dtframe2['tag'] = lab2\n",
        "dtframe2.head"
      ]
    },
    {
      "cell_type": "code",
      "execution_count": 8,
      "metadata": {
        "id": "DyBLU-GmkMld"
      },
      "outputs": [],
      "source": [
        "traindf = dtframe[:100]\n",
        "traindf = traindf.append(dtframe2[:150],ignore_index= True)\n",
        "valdf = dtframe[101:151]\n",
        "valdf = valdf.append(dtframe2[151:189], ignore_index= True)\n",
        "traindf = traindf.sample(frac=1).reset_index(drop=True)\n",
        "valdf = valdf.sample(frac=1).reset_index(drop=True)"
      ]
    },
    {
      "cell_type": "code",
      "execution_count": 9,
      "metadata": {
        "id": "oTr4utNwkMjY"
      },
      "outputs": [],
      "source": [
        "def autocrop(image, threshold=0):\n",
        "    if len(image.shape) == 3:\n",
        "        flatImage = np.max(image, 2)\n",
        "    else:\n",
        "        flatImage = image\n",
        "    assert len(flatImage.shape) == 2\n",
        "\n",
        "    rows = np.where(np.max(flatImage, 0) > threshold)[0]\n",
        "    if rows.size:\n",
        "        cols = np.where(np.max(flatImage, 1) > threshold)[0]\n",
        "        image = image[cols[0]: cols[-1] + 1, rows[0]: rows[-1] + 1]\n",
        "    else:\n",
        "        image = image[:1, :1]\n",
        "\n",
        "    return image"
      ]
    },
    {
      "cell_type": "code",
      "execution_count": 10,
      "metadata": {
        "id": "31D8usQLkMgF"
      },
      "outputs": [],
      "source": [
        "def scale_and_resize(image):\n",
        "\n",
        "  image = cv2.cvtColor(image, cv2.COLOR_BGR2RGB)\n",
        "  image = autocrop(image)\n",
        "  image = cv2.resize(image,(IMAGE_SIZE,IMAGE_SIZE))\n",
        "  image = image/255.0\n",
        "  \n",
        "  return image.astype('float16')\n",
        "  "
      ]
    },
    {
      "cell_type": "code",
      "execution_count": 11,
      "metadata": {
        "id": "VTfNLyLbkMdT"
      },
      "outputs": [],
      "source": [
        "def extract_frames(videodf, start_index = 0, end_index =-1):\n",
        "\n",
        "  output_videos = []\n",
        "  output_labels = []\n",
        "\n",
        "  if end_index is -1:\n",
        "    end_index = videodf.shape[0]\n",
        "  for i in range(start_index, end_index):\n",
        "\n",
        "    try:\n",
        "      videodata = skvideo.io.vread(videodf['video_name'][i])\n",
        "\n",
        "    except:\n",
        "      continue\n",
        "\n",
        "    steps = videodata.shape[0] // NUMBER_OF_FRAMES\n",
        "    new_images = np.zeros((NUMBER_OF_FRAMES,IMAGE_SIZE,IMAGE_SIZE,IMAGE_CHANNELS))\n",
        "\n",
        "    for j in range(NUMBER_OF_FRAMES):\n",
        "      new_images[j] = scale_and_resize(videodata[j*steps])\n",
        "\n",
        "    output_videos.append(new_images)   \n",
        "    output_labels.append(videodf['tag'][i])\n",
        "\n",
        "    sys.stdout.write(\"\\rVideo Processed \" + str(i-start_index+1)+ \"/\" + str(end_index-start_index))\n",
        "    sys.stdout.flush()\n",
        "\n",
        "  output_videos = np.array(output_videos)\n",
        "  output_labels = np.array(output_labels)\n",
        "  \n",
        "  return output_videos , output_labels"
      ]
    },
    {
      "cell_type": "code",
      "execution_count": 12,
      "metadata": {
        "id": "GFBP5EoUMaSU"
      },
      "outputs": [],
      "source": [
        "def extract_frames_difference(videodf, start_index = 0, end_index =-1):\n",
        "  \n",
        "  output_videos = []\n",
        "  output_labels = []\n",
        "\n",
        "  if end_index is -1:\n",
        "    end_index = videodf.shape[0]\n",
        "\n",
        "  for i in range(start_index, end_index):\n",
        "\n",
        "    try:\n",
        "      videodata = skvideo.io.vread(videodf['video_name'][i])\n",
        "\n",
        "    except:\n",
        "      continue\n",
        "\n",
        "    steps = videodata.shape[0] // NUMBER_OF_FRAMES\n",
        "    new_images = []\n",
        "    new_diff = np.zeros((int(NUMBER_OF_FRAMES/2),IMAGE_SIZE,IMAGE_SIZE,IMAGE_CHANNELS))\n",
        "    count = 0\n",
        "\n",
        "    for j in range(NUMBER_OF_FRAMES):\n",
        "      new_images.append(videodata[j*steps])\n",
        "\n",
        "    for j in range(0,NUMBER_OF_FRAMES,2):\n",
        "      new_diff[count] = scale_and_resize(cv2.absdiff(new_images[j],new_images[j+1]))\n",
        "      count += 1 \n",
        "\n",
        "    output_videos.append(new_diff)   \n",
        "    output_labels.append(videodf['tag'][i])\n",
        "\n",
        "    sys.stdout.write(\"\\rVideo Processed \" + str(i-start_index+1)+ \"/\" + str(end_index-start_index))\n",
        "    sys.stdout.flush()\n",
        "\n",
        "  output_videos = np.array(output_videos)\n",
        "  output_labels = np.array(output_labels)\n",
        "  \n",
        "  return output_videos , output_labels"
      ]
    },
    {
      "cell_type": "code",
      "execution_count": 13,
      "metadata": {
        "colab": {
          "base_uri": "https://localhost:8080/"
        },
        "id": "S8MbL1XhkMaV",
        "outputId": "17744fc8-4ad9-4850-95ab-da8758eba2ac"
      },
      "outputs": [
        {
          "name": "stdout",
          "output_type": "stream",
          "text": [
            "Video Processed 250/250"
          ]
        }
      ],
      "source": [
        "fvideo , flabels = extract_frames(traindf)"
      ]
    },
    {
      "cell_type": "code",
      "execution_count": 14,
      "metadata": {
        "colab": {
          "base_uri": "https://localhost:8080/"
        },
        "id": "9o2xYA1akMU9",
        "outputId": "b21e1fe6-9439-43b7-a536-ffa8507bbbee"
      },
      "outputs": [
        {
          "name": "stdout",
          "output_type": "stream",
          "text": [
            "Video Processed 88/88"
          ]
        }
      ],
      "source": [
        "tvideo , tlabels = extract_frames(valdf)"
      ]
    },
    {
      "cell_type": "code",
      "execution_count": 15,
      "metadata": {
        "id": "nqzy5tEikMJo"
      },
      "outputs": [],
      "source": [
        "flabels = flabels.astype('float16')\n",
        "#flabels = to_categorical(flabels ,num_classes=2)\n",
        "\n",
        "tlabels = tlabels.astype('float16')\n",
        "#tlabels = to_categorical(tlabels ,num_classes=2)"
      ]
    },
    {
      "cell_type": "code",
      "execution_count": 16,
      "metadata": {
        "colab": {
          "base_uri": "https://localhost:8080/"
        },
        "id": "if-vNJRjkdjl",
        "outputId": "cf8ad923-2a3a-418f-8fa8-f4be35124904"
      },
      "outputs": [
        {
          "name": "stdout",
          "output_type": "stream",
          "text": [
            "(166, 20, 160, 160, 3)\n",
            "(166,)\n",
            "(68, 20, 160, 160, 3)\n",
            "(68,)\n"
          ]
        }
      ],
      "source": [
        "print(fvideo.shape)\n",
        "print(flabels.shape)\n",
        "\n",
        "print(tvideo.shape)\n",
        "print(tlabels.shape)"
      ]
    },
    {
      "cell_type": "code",
      "execution_count": 17,
      "metadata": {
        "colab": {
          "base_uri": "https://localhost:8080/"
        },
        "id": "My3wyNKLkdtK",
        "outputId": "348b0246-78c9-4cbf-a243-498a7ef5bb4b"
      },
      "outputs": [
        {
          "name": "stdout",
          "output_type": "stream",
          "text": [
            "Video Processed 100/100"
          ]
        }
      ],
      "source": [
        "hockey_video , hockey_labels = extract_frames(dtframe,300,400)"
      ]
    },
    {
      "cell_type": "code",
      "execution_count": 18,
      "metadata": {
        "colab": {
          "base_uri": "https://localhost:8080/"
        },
        "id": "bYgCYrGYkd0L",
        "outputId": "c798c074-7cee-409c-a7f9-04477dc7fe26"
      },
      "outputs": [
        {
          "name": "stdout",
          "output_type": "stream",
          "text": [
            "Video Processed 9/10"
          ]
        }
      ],
      "source": [
        "movies_video , movies_labels = extract_frames(dtframe2,189,199)"
      ]
    },
    {
      "cell_type": "code",
      "execution_count": 19,
      "metadata": {
        "colab": {
          "base_uri": "https://localhost:8080/"
        },
        "id": "vfGmGbJRE0co",
        "outputId": "112a5a3d-8969-466d-bfe5-77f26070b53a"
      },
      "outputs": [
        {
          "name": "stdout",
          "output_type": "stream",
          "text": [
            "(100, 20, 160, 160, 3)\n",
            "(100,)\n",
            "(5, 20, 160, 160, 3)\n",
            "(5,)\n"
          ]
        }
      ],
      "source": [
        "print(hockey_video.shape)\n",
        "print(hockey_labels.shape)\n",
        "\n",
        "print(movies_video.shape)\n",
        "print(movies_labels.shape)"
      ]
    },
    {
      "cell_type": "code",
      "execution_count": 20,
      "metadata": {
        "id": "aBlS8q0vwWUg"
      },
      "outputs": [],
      "source": [
        "'''\n",
        "  This algorithm uses the history data from the training of the model (.fit)\n",
        "  in order to plot the loss and accuracy at each epoch\n",
        "'''\n",
        "def plot_results(history):  \n",
        "  loss = history.history['loss']\n",
        "  val_loss = history.history['val_loss']\n",
        "  acc = history.history['accuracy']\n",
        "  val_acc = history.history['val_accuracy']\n",
        "\n",
        "  epochs = range(len(loss))\n",
        "\n",
        "  plt.figure()\n",
        "\n",
        "  plt.plot(epochs, loss, 'b', label='Training loss')\n",
        "  plt.plot(epochs, val_loss, 'r', label='Validation loss')\n",
        "  plt.legend()\n",
        "\n",
        "  plt.show()\n",
        "  plt.plot(epochs, acc, 'b', label='Training accuracy')\n",
        "  plt.plot(epochs, val_acc, 'r', label='Validation accuracy')\n",
        "  plt.legend()\n",
        "\n",
        "  plt.show()"
      ]
    },
    {
      "cell_type": "code",
      "execution_count": 21,
      "metadata": {
        "id": "rmRzhk3Inm4U"
      },
      "outputs": [],
      "source": [
        "'''\n",
        "  This method is responsible to evaluate a model which is passed as a \n",
        "  parameter to test it on both hockey and movies dataset\n",
        "'''\n",
        "def val_results(model):\n",
        "  hockey_predictions = []\n",
        "\n",
        "  for i in range(0,len(hockey_video)):\n",
        "    hockey_predictions.append(model.predict(hockey_video[i:i+1])[0])\n",
        "\n",
        "  count = 0\n",
        "  count2 = 0\n",
        "\n",
        "  for i in range(len(hockey_labels)):\n",
        "    if hockey_predictions[i] > 0.5 and hockey_labels[i] == 1:\n",
        "      count +=1 \n",
        "    elif hockey_predictions[i] < 0.5 and hockey_labels[i] == 0:\n",
        "      count +=1\n",
        "\n",
        "  movies_predictions = model.predict(movies_video)\n",
        "\n",
        "  for i in range(len(movies_labels)):\n",
        "    if movies_predictions[i] > 0.5 and movies_labels[i] == 1:\n",
        "      count2 +=1 \n",
        "    elif movies_predictions[i] < 0.5 and movies_labels[i] == 0:\n",
        "      count2 +=1 \n",
        "  print(\"Hockey Test Acc: \" , float(count/len(hockey_labels)),\"\\tCount: \" , count ,\"\\nMovies Test Acc: \" ,float(count2/len(movies_labels)),\"\\tCount: \" , count2)"
      ]
    },
    {
      "cell_type": "code",
      "execution_count": 22,
      "metadata": {
        "id": "HU0Rw-ehkdmu"
      },
      "outputs": [],
      "source": [
        "def CNN_LSTM(model_arch, opt, retrain ,init_weights = 'imagenet'):\n",
        "\n",
        "    input_shapes=(NUMBER_OF_FRAMES,IMAGE_SIZE,IMAGE_SIZE,3)\n",
        "    #np.random.seed(1234)\n",
        "    if model_arch is 'Vgg19':\n",
        "      base_model=VGG19(include_top=False,weights= init_weights ,input_shape=(IMAGE_SIZE, IMAGE_SIZE,3))\n",
        "    elif model_arch is 'Resnet':\n",
        "      base_model = ResNet50(include_top=False,weights=init_weights ,input_shape=(IMAGE_SIZE, IMAGE_SIZE,3))\n",
        "\n",
        "    for layer in base_model.layers:\n",
        "        layer.trainable = retrain\n",
        "\n",
        "    cnn = TimeDistributed(base_model,  input_shape=(NUMBER_OF_FRAMES, IMAGE_SIZE, IMAGE_SIZE, 3))\n",
        "    \n",
        "    model = Sequential()\n",
        "    #model.add(Input(shape=(NUMBER_OF_FRAMES, IMAGE_SIZE, IMAGE_SIZE, IMAGE_CHANNELS)))\n",
        "    model.add(cnn)\n",
        "    model.add(TimeDistributed(Flatten()))\n",
        "\n",
        "    \n",
        "    model.add(LSTM(NUMBER_OF_FRAMES+80 , return_sequences= True))\n",
        "    model.add(BatchNormalization())\n",
        "    #model.add(Dropout(0.2))\n",
        "    model.add(TimeDistributed(Dense(90, activation='relu')))\n",
        "    model.add(BatchNormalization())\n",
        "    model.add(Dropout(0.5))\n",
        "    model.add(GlobalAveragePooling1D())\n",
        "    model.add(BatchNormalization())\n",
        "    model.add(Dense(90, activation='relu'))\n",
        "    model.add(Dropout(0.5))\n",
        "    model.add(BatchNormalization())\n",
        "    model.add(Dense(1, activation=\"sigmoid\"))\n",
        "\n",
        "    if opt is 'Adam':\n",
        "      opti = Adam(lr=0.00001)\n",
        "    elif opt is 'Sgd':\n",
        "      opti = SGD(lr=0.00001)\n",
        "    elif opt is 'RMSprop':\n",
        "      opti = RMSprop(lr=0.00001)\n",
        "\n",
        "    model.compile(loss='BinaryCrossentropy', optimizer= opti, metrics=[\"accuracy\"])\n",
        "\n",
        "    return model"
      ]
    },
    {
      "cell_type": "code",
      "execution_count": null,
      "metadata": {
        "colab": {
          "base_uri": "https://localhost:8080/"
        },
        "id": "N4chV-5Ckdp2",
        "outputId": "a8e62a26-c48a-45d0-a052-1bddca4e4f48"
      },
      "outputs": [
        {
          "name": "stdout",
          "output_type": "stream",
          "text": [
            "Epoch 1/20\n",
            " 2/17 [==>...........................] - ETA: 5s - loss: 1.0003 - accuracy: 0.4500WARNING:tensorflow:Callbacks method `on_train_batch_end` is slow compared to the batch time (batch time: 0.2436s vs `on_train_batch_end` time: 0.5204s). Check your callbacks.\n",
            "17/17 [==============================] - 19s 1s/step - loss: 0.6692 - accuracy: 0.6506 - val_loss: 0.6317 - val_accuracy: 0.6176\n",
            "Epoch 2/20\n",
            "17/17 [==============================] - 14s 828ms/step - loss: 0.4823 - accuracy: 0.7952 - val_loss: 0.6152 - val_accuracy: 0.7059\n",
            "Epoch 3/20\n",
            "17/17 [==============================] - 14s 829ms/step - loss: 0.4653 - accuracy: 0.7771 - val_loss: 0.6082 - val_accuracy: 0.7353\n",
            "Epoch 4/20\n",
            "17/17 [==============================] - 14s 829ms/step - loss: 0.3165 - accuracy: 0.8795 - val_loss: 0.5749 - val_accuracy: 0.7500\n",
            "Epoch 5/20\n",
            "17/17 [==============================] - 14s 828ms/step - loss: 0.3051 - accuracy: 0.8855 - val_loss: 0.5361 - val_accuracy: 0.8382\n",
            "Epoch 6/20\n",
            "17/17 [==============================] - 14s 828ms/step - loss: 0.3787 - accuracy: 0.8614 - val_loss: 0.5357 - val_accuracy: 0.8382\n",
            "Epoch 7/20\n",
            "17/17 [==============================] - 14s 828ms/step - loss: 0.3817 - accuracy: 0.8554 - val_loss: 0.5735 - val_accuracy: 0.7353\n",
            "Epoch 8/20\n",
            "17/17 [==============================] - 14s 826ms/step - loss: 0.3409 - accuracy: 0.8434 - val_loss: 0.5156 - val_accuracy: 0.8529\n",
            "Epoch 9/20\n",
            "17/17 [==============================] - 14s 827ms/step - loss: 0.3867 - accuracy: 0.8434 - val_loss: 0.5031 - val_accuracy: 0.8382\n",
            "Epoch 10/20\n",
            "17/17 [==============================] - 14s 828ms/step - loss: 0.2881 - accuracy: 0.8795 - val_loss: 0.4755 - val_accuracy: 0.8382\n",
            "Epoch 11/20\n",
            "17/17 [==============================] - 14s 828ms/step - loss: 0.3393 - accuracy: 0.8494 - val_loss: 0.4325 - val_accuracy: 0.8676\n",
            "Epoch 12/20\n",
            "17/17 [==============================] - 14s 829ms/step - loss: 0.2767 - accuracy: 0.8855 - val_loss: 0.4034 - val_accuracy: 0.9412\n",
            "Epoch 13/20\n",
            "17/17 [==============================] - 14s 829ms/step - loss: 0.2967 - accuracy: 0.8494 - val_loss: 0.4218 - val_accuracy: 0.9118\n",
            "Epoch 14/20\n",
            "17/17 [==============================] - 14s 828ms/step - loss: 0.2243 - accuracy: 0.9157 - val_loss: 0.3919 - val_accuracy: 0.8971\n",
            "Epoch 15/20\n",
            "17/17 [==============================] - 14s 829ms/step - loss: 0.2493 - accuracy: 0.9157 - val_loss: 0.3846 - val_accuracy: 0.9265\n",
            "Epoch 16/20\n"
          ]
        }
      ],
      "source": [
        "vgg_adam_retrain = CNN_LSTM('Vgg19', 'Adam', True)\n",
        "vgg_adam_retrain_history = vgg_adam_retrain.fit(fvideo,flabels, batch_size=10, epochs=20, validation_data=(tvideo , tlabels))"
      ]
    },
    {
      "cell_type": "code",
      "execution_count": null,
      "metadata": {
        "id": "_9QzMR0XO1Vb"
      },
      "outputs": [],
      "source": [
        "plot_results(vgg_adam_retrain_history)"
      ]
    },
    {
      "cell_type": "code",
      "execution_count": 25,
      "metadata": {
        "colab": {
          "base_uri": "https://localhost:8080/"
        },
        "id": "n2oio25SgZBB",
        "outputId": "7d42de49-69ba-4323-bb34-92d4e2879f4e"
      },
      "outputs": [
        {
          "name": "stdout",
          "output_type": "stream",
          "text": [
            "Hockey Test Acc:  0.89 \tCount:  89 \n",
            "Movies Test Acc:  1.0 \tCount:  5\n"
          ]
        }
      ],
      "source": [
        "val_results(vgg_adam_retrain)"
      ]
    },
    {
      "cell_type": "code",
      "execution_count": 26,
      "metadata": {
        "colab": {
          "base_uri": "https://localhost:8080/"
        },
        "id": "xzxT3QfWE-7z",
        "outputId": "02d3a104-c6ac-452a-eb3a-f1820935f1bd"
      },
      "outputs": [
        {
          "name": "stdout",
          "output_type": "stream",
          "text": [
            "Epoch 1/20\n",
            "17/17 [==============================] - 6s 370ms/step - loss: 0.9816 - accuracy: 0.4518 - val_loss: 0.7251 - val_accuracy: 0.3382\n",
            "Epoch 2/20\n",
            "17/17 [==============================] - 5s 318ms/step - loss: 0.7922 - accuracy: 0.5482 - val_loss: 0.6978 - val_accuracy: 0.4706\n",
            "Epoch 3/20\n",
            "17/17 [==============================] - 5s 318ms/step - loss: 0.6243 - accuracy: 0.6687 - val_loss: 0.6751 - val_accuracy: 0.7206\n",
            "Epoch 4/20\n",
            "17/17 [==============================] - 5s 317ms/step - loss: 0.5199 - accuracy: 0.7229 - val_loss: 0.6458 - val_accuracy: 0.7647\n",
            "Epoch 5/20\n",
            "17/17 [==============================] - 5s 317ms/step - loss: 0.4641 - accuracy: 0.7590 - val_loss: 0.6244 - val_accuracy: 0.8235\n",
            "Epoch 6/20\n",
            "17/17 [==============================] - 5s 318ms/step - loss: 0.4321 - accuracy: 0.7831 - val_loss: 0.6084 - val_accuracy: 0.8088\n",
            "Epoch 7/20\n",
            "17/17 [==============================] - 5s 318ms/step - loss: 0.4141 - accuracy: 0.8434 - val_loss: 0.5941 - val_accuracy: 0.8088\n",
            "Epoch 8/20\n",
            "17/17 [==============================] - 5s 317ms/step - loss: 0.4017 - accuracy: 0.7831 - val_loss: 0.5874 - val_accuracy: 0.8088\n",
            "Epoch 9/20\n",
            "17/17 [==============================] - 5s 317ms/step - loss: 0.3788 - accuracy: 0.8133 - val_loss: 0.5810 - val_accuracy: 0.7353\n",
            "Epoch 10/20\n",
            "17/17 [==============================] - 5s 317ms/step - loss: 0.3582 - accuracy: 0.8373 - val_loss: 0.5700 - val_accuracy: 0.7500\n",
            "Epoch 11/20\n",
            "17/17 [==============================] - 5s 318ms/step - loss: 0.3346 - accuracy: 0.8855 - val_loss: 0.5546 - val_accuracy: 0.7647\n",
            "Epoch 12/20\n",
            "17/17 [==============================] - 5s 318ms/step - loss: 0.3783 - accuracy: 0.8373 - val_loss: 0.5467 - val_accuracy: 0.7500\n",
            "Epoch 13/20\n",
            "17/17 [==============================] - 5s 319ms/step - loss: 0.3236 - accuracy: 0.8855 - val_loss: 0.5478 - val_accuracy: 0.7206\n",
            "Epoch 14/20\n",
            "17/17 [==============================] - 5s 318ms/step - loss: 0.3576 - accuracy: 0.8313 - val_loss: 0.5440 - val_accuracy: 0.7059\n",
            "Epoch 15/20\n",
            "17/17 [==============================] - 5s 317ms/step - loss: 0.3244 - accuracy: 0.8675 - val_loss: 0.5343 - val_accuracy: 0.7206\n",
            "Epoch 16/20\n",
            "17/17 [==============================] - 5s 318ms/step - loss: 0.2884 - accuracy: 0.9036 - val_loss: 0.5252 - val_accuracy: 0.7206\n",
            "Epoch 17/20\n",
            "17/17 [==============================] - 5s 317ms/step - loss: 0.3081 - accuracy: 0.8855 - val_loss: 0.5089 - val_accuracy: 0.7353\n",
            "Epoch 18/20\n",
            "17/17 [==============================] - 5s 319ms/step - loss: 0.3079 - accuracy: 0.8976 - val_loss: 0.4952 - val_accuracy: 0.7353\n",
            "Epoch 19/20\n",
            "17/17 [==============================] - 5s 318ms/step - loss: 0.2872 - accuracy: 0.8976 - val_loss: 0.4842 - val_accuracy: 0.7500\n",
            "Epoch 20/20\n",
            "17/17 [==============================] - 5s 316ms/step - loss: 0.2966 - accuracy: 0.8916 - val_loss: 0.4697 - val_accuracy: 0.7500\n"
          ]
        }
      ],
      "source": [
        "vgg_adam_static = CNN_LSTM('Vgg19', 'Adam', False)\n",
        "vgg_adam_static_history = vgg_adam_static.fit(fvideo,flabels, batch_size=10, epochs=20, validation_data=(tvideo , tlabels))"
      ]
    },
    {
      "cell_type": "code",
      "execution_count": null,
      "metadata": {
        "id": "96_lURbtFLVI"
      },
      "outputs": [],
      "source": [
        "plot_results(vgg_adam_static_history)"
      ]
    },
    {
      "cell_type": "code",
      "execution_count": 28,
      "metadata": {
        "colab": {
          "base_uri": "https://localhost:8080/"
        },
        "id": "JgNKk-GLFO56",
        "outputId": "efecf8c3-69ed-4a19-9286-785128dbfa26"
      },
      "outputs": [
        {
          "name": "stdout",
          "output_type": "stream",
          "text": [
            "Hockey Test Acc:  0.9 \tCount:  90 \n",
            "Movies Test Acc:  1.0 \tCount:  5\n"
          ]
        }
      ],
      "source": [
        "val_results(vgg_adam_static)"
      ]
    },
    {
      "cell_type": "code",
      "execution_count": 29,
      "metadata": {
        "colab": {
          "base_uri": "https://localhost:8080/"
        },
        "id": "gQdeytZIFQ5T",
        "outputId": "1ce919ed-5945-4574-863e-c8b87ef4f042"
      },
      "outputs": [
        {
          "name": "stdout",
          "output_type": "stream",
          "text": [
            "Epoch 1/20\n",
            "17/17 [==============================] - 7s 404ms/step - loss: 0.7379 - accuracy: 0.5783 - val_loss: 0.6807 - val_accuracy: 0.5147\n",
            "Epoch 2/20\n",
            "17/17 [==============================] - 4s 239ms/step - loss: 0.6445 - accuracy: 0.6687 - val_loss: 0.6512 - val_accuracy: 0.7647\n",
            "Epoch 3/20\n",
            "17/17 [==============================] - 4s 238ms/step - loss: 0.5507 - accuracy: 0.7289 - val_loss: 0.6270 - val_accuracy: 0.7647\n",
            "Epoch 4/20\n",
            "17/17 [==============================] - 4s 239ms/step - loss: 0.4547 - accuracy: 0.8012 - val_loss: 0.6153 - val_accuracy: 0.7647\n",
            "Epoch 5/20\n",
            "17/17 [==============================] - 4s 238ms/step - loss: 0.5143 - accuracy: 0.7470 - val_loss: 0.6094 - val_accuracy: 0.7500\n",
            "Epoch 6/20\n",
            "17/17 [==============================] - 4s 238ms/step - loss: 0.4771 - accuracy: 0.7952 - val_loss: 0.6044 - val_accuracy: 0.8088\n",
            "Epoch 7/20\n",
            "17/17 [==============================] - 4s 239ms/step - loss: 0.4114 - accuracy: 0.8193 - val_loss: 0.6194 - val_accuracy: 0.8382\n",
            "Epoch 8/20\n",
            "17/17 [==============================] - 4s 239ms/step - loss: 0.3644 - accuracy: 0.8193 - val_loss: 0.6256 - val_accuracy: 0.8088\n",
            "Epoch 9/20\n",
            "17/17 [==============================] - 4s 239ms/step - loss: 0.4010 - accuracy: 0.8133 - val_loss: 0.6069 - val_accuracy: 0.8088\n",
            "Epoch 10/20\n",
            "17/17 [==============================] - 4s 240ms/step - loss: 0.4115 - accuracy: 0.8313 - val_loss: 0.5577 - val_accuracy: 0.8088\n",
            "Epoch 11/20\n",
            "17/17 [==============================] - 4s 238ms/step - loss: 0.3260 - accuracy: 0.8795 - val_loss: 0.5490 - val_accuracy: 0.8088\n",
            "Epoch 12/20\n",
            "17/17 [==============================] - 4s 238ms/step - loss: 0.3673 - accuracy: 0.8373 - val_loss: 0.5590 - val_accuracy: 0.8676\n",
            "Epoch 13/20\n",
            "17/17 [==============================] - 4s 238ms/step - loss: 0.4048 - accuracy: 0.8193 - val_loss: 0.5379 - val_accuracy: 0.9118\n",
            "Epoch 14/20\n",
            "17/17 [==============================] - 4s 239ms/step - loss: 0.3248 - accuracy: 0.8976 - val_loss: 0.5253 - val_accuracy: 0.8824\n",
            "Epoch 15/20\n",
            "17/17 [==============================] - 4s 240ms/step - loss: 0.3046 - accuracy: 0.8855 - val_loss: 0.4963 - val_accuracy: 0.9118\n",
            "Epoch 16/20\n",
            "17/17 [==============================] - 4s 238ms/step - loss: 0.2644 - accuracy: 0.9036 - val_loss: 0.4747 - val_accuracy: 0.8971\n",
            "Epoch 17/20\n",
            "17/17 [==============================] - 4s 238ms/step - loss: 0.3336 - accuracy: 0.8795 - val_loss: 0.4415 - val_accuracy: 0.8529\n",
            "Epoch 18/20\n",
            "17/17 [==============================] - 4s 239ms/step - loss: 0.2675 - accuracy: 0.9217 - val_loss: 0.4452 - val_accuracy: 0.8529\n",
            "Epoch 19/20\n",
            "17/17 [==============================] - 4s 240ms/step - loss: 0.3035 - accuracy: 0.8675 - val_loss: 0.4489 - val_accuracy: 0.8824\n",
            "Epoch 20/20\n",
            "17/17 [==============================] - 4s 237ms/step - loss: 0.3285 - accuracy: 0.9036 - val_loss: 0.4295 - val_accuracy: 0.8971\n"
          ]
        }
      ],
      "source": [
        "resnet_adam_static = CNN_LSTM('Resnet', 'Adam', False)\n",
        "resnet_adam_static_history = resnet_adam_static.fit(fvideo,flabels, batch_size=10, epochs=20, validation_data=(tvideo , tlabels))"
      ]
    },
    {
      "cell_type": "code",
      "execution_count": null,
      "metadata": {
        "id": "o0xoHYNGF081"
      },
      "outputs": [],
      "source": [
        "plot_results(resnet_adam_static_history)"
      ]
    },
    {
      "cell_type": "code",
      "execution_count": null,
      "metadata": {
        "id": "RuZsy_seF4WV"
      },
      "outputs": [],
      "source": [
        "val_results(resnet_adam_static)"
      ]
    },
    {
      "cell_type": "code",
      "execution_count": 32,
      "metadata": {
        "colab": {
          "base_uri": "https://localhost:8080/"
        },
        "id": "QqXcozrGF7_S",
        "outputId": "69ada9ce-7b61-497a-f8d7-761f1c5e8ca9"
      },
      "outputs": [
        {
          "name": "stdout",
          "output_type": "stream",
          "text": [
            "Epoch 1/20\n",
            "17/17 [==============================] - 6s 356ms/step - loss: 0.6810 - accuracy: 0.6325 - val_loss: 0.6817 - val_accuracy: 0.4265\n",
            "Epoch 2/20\n",
            "17/17 [==============================] - 4s 241ms/step - loss: 0.5832 - accuracy: 0.6928 - val_loss: 0.6599 - val_accuracy: 0.7500\n",
            "Epoch 3/20\n",
            "17/17 [==============================] - 4s 242ms/step - loss: 0.5363 - accuracy: 0.7410 - val_loss: 0.6720 - val_accuracy: 0.5294\n",
            "Epoch 4/20\n",
            "17/17 [==============================] - 4s 241ms/step - loss: 0.4103 - accuracy: 0.8133 - val_loss: 0.6634 - val_accuracy: 0.4706\n",
            "Epoch 5/20\n",
            "17/17 [==============================] - 4s 241ms/step - loss: 0.4750 - accuracy: 0.7831 - val_loss: 0.6714 - val_accuracy: 0.4412\n",
            "Epoch 6/20\n",
            "17/17 [==============================] - 4s 241ms/step - loss: 0.3973 - accuracy: 0.8494 - val_loss: 0.7191 - val_accuracy: 0.3676\n",
            "Epoch 7/20\n",
            "17/17 [==============================] - 4s 241ms/step - loss: 0.3624 - accuracy: 0.8253 - val_loss: 0.7589 - val_accuracy: 0.3676\n",
            "Epoch 8/20\n",
            "17/17 [==============================] - 4s 241ms/step - loss: 0.4015 - accuracy: 0.8373 - val_loss: 0.7421 - val_accuracy: 0.3676\n",
            "Epoch 9/20\n",
            "17/17 [==============================] - 4s 240ms/step - loss: 0.3515 - accuracy: 0.8494 - val_loss: 0.7063 - val_accuracy: 0.3676\n",
            "Epoch 10/20\n",
            "17/17 [==============================] - 4s 240ms/step - loss: 0.3851 - accuracy: 0.8313 - val_loss: 0.6857 - val_accuracy: 0.4118\n",
            "Epoch 11/20\n",
            "17/17 [==============================] - 4s 241ms/step - loss: 0.3476 - accuracy: 0.8735 - val_loss: 0.5953 - val_accuracy: 0.5588\n",
            "Epoch 12/20\n",
            "17/17 [==============================] - 4s 241ms/step - loss: 0.3685 - accuracy: 0.8494 - val_loss: 0.5415 - val_accuracy: 0.7206\n",
            "Epoch 13/20\n",
            "17/17 [==============================] - 4s 242ms/step - loss: 0.2902 - accuracy: 0.8916 - val_loss: 0.5380 - val_accuracy: 0.7941\n",
            "Epoch 14/20\n",
            "17/17 [==============================] - 4s 241ms/step - loss: 0.2834 - accuracy: 0.8976 - val_loss: 0.6176 - val_accuracy: 0.5147\n",
            "Epoch 15/20\n",
            "17/17 [==============================] - 4s 241ms/step - loss: 0.2572 - accuracy: 0.9217 - val_loss: 0.6688 - val_accuracy: 0.3676\n",
            "Epoch 16/20\n",
            "17/17 [==============================] - 4s 240ms/step - loss: 0.2827 - accuracy: 0.8916 - val_loss: 0.5678 - val_accuracy: 0.6176\n",
            "Epoch 17/20\n",
            "17/17 [==============================] - 4s 241ms/step - loss: 0.3159 - accuracy: 0.8494 - val_loss: 0.3956 - val_accuracy: 0.9559\n",
            "Epoch 18/20\n",
            "17/17 [==============================] - 4s 240ms/step - loss: 0.3302 - accuracy: 0.8795 - val_loss: 0.4578 - val_accuracy: 0.8235\n",
            "Epoch 19/20\n",
            "17/17 [==============================] - 4s 241ms/step - loss: 0.3080 - accuracy: 0.8916 - val_loss: 0.4663 - val_accuracy: 0.7794\n",
            "Epoch 20/20\n",
            "17/17 [==============================] - 4s 239ms/step - loss: 0.2786 - accuracy: 0.8855 - val_loss: 0.4321 - val_accuracy: 0.8529\n"
          ]
        }
      ],
      "source": [
        "resnet_rmsprop_static = CNN_LSTM('Resnet', 'RMSprop', False)\n",
        "resnet_rmsprop_static_history = resnet_rmsprop_static.fit(fvideo,flabels, batch_size=10, epochs=20, validation_data=(tvideo , tlabels))"
      ]
    },
    {
      "cell_type": "code",
      "execution_count": 33,
      "metadata": {
        "colab": {
          "base_uri": "https://localhost:8080/",
          "height": 513
        },
        "id": "6NFCEVUSGDwe",
        "outputId": "d57cf8ee-041b-401d-b599-403636fc667b"
      },
      "outputs": [
        {
          "data": {
            "image/png": "[encoded data removed]",
            "text/plain": [
              "<Figure size 432x288 with 1 Axes>"
            ]
          },
          "metadata": {
            "needs_background": "light",
            "tags": []
          },
          "output_type": "display_data"
        },
        {
          "data": {
            "image/png": "[encoded data removed]",
            "text/plain": [
              "<Figure size 432x288 with 1 Axes>"
            ]
          },
          "metadata": {
            "needs_background": "light",
            "tags": []
          },
          "output_type": "display_data"
        }
      ],
      "source": [
        "plot_results(resnet_rmsprop_static_history)"
      ]
    },
    {
      "cell_type": "code",
      "execution_count": 34,
      "metadata": {
        "colab": {
          "base_uri": "https://localhost:8080/"
        },
        "id": "3K29cEZUGFVx",
        "outputId": "5ac80ab7-401e-4d82-8729-a3ddfb08ad58"
      },
      "outputs": [
        {
          "name": "stdout",
          "output_type": "stream",
          "text": [
            "Hockey Test Acc:  0.9 \tCount:  90 \n",
            "Movies Test Acc:  0.8 \tCount:  4\n"
          ]
        }
      ],
      "source": [
        "val_results(resnet_rmsprop_static)"
      ]
    },
    {
      "cell_type": "code",
      "execution_count": 35,
      "metadata": {
        "colab": {
          "base_uri": "https://localhost:8080/"
        },
        "id": "d9u7NMauJaF9",
        "outputId": "9120d140-5031-47a3-8488-0a9023f542b0"
      },
      "outputs": [
        {
          "name": "stdout",
          "output_type": "stream",
          "text": [
            "Video Processed 250/250"
          ]
        }
      ],
      "source": [
        "fvideo , flabels = extract_frames_difference(traindf)"
      ]
    },
    {
      "cell_type": "code",
      "execution_count": null,
      "metadata": {
        "id": "nNvJCPGtJaGU"
      },
      "outputs": [],
      "source": [
        "tvideo , tlabels = extract_frames_difference(valdf)"
      ]
    },
    {
      "cell_type": "code",
      "execution_count": null,
      "metadata": {
        "id": "H-KlujirJaGh"
      },
      "outputs": [],
      "source": [
        "flabels = flabels.astype('float16')\n",
        "#flabels = to_categorical(flabels ,num_classes=2)\n",
        "\n",
        "tlabels = tlabels.astype('float16')\n",
        "#tlabels = to_categorical(tlabels ,num_classes=2)"
      ]
    },
    {
      "cell_type": "code",
      "execution_count": null,
      "metadata": {
        "id": "7tnOgJ-KJaGs"
      },
      "outputs": [],
      "source": [
        "print(fvideo.shape)\n",
        "print(flabels.shape)\n",
        "\n",
        "print(tvideo.shape)\n",
        "print(tlabels.shape)"
      ]
    },
    {
      "cell_type": "code",
      "execution_count": 39,
      "metadata": {
        "colab": {
          "base_uri": "https://localhost:8080/"
        },
        "id": "vF5SSlMdJaG1",
        "outputId": "b4ee1b94-1a60-4f32-f881-07ac59632c89"
      },
      "outputs": [
        {
          "name": "stdout",
          "output_type": "stream",
          "text": [
            "Video Processed 100/100"
          ]
        }
      ],
      "source": [
        "hockey_video , hockey_labels = extract_frames_difference(dtframe,300,400)"
      ]
    },
    {
      "cell_type": "code",
      "execution_count": null,
      "metadata": {
        "id": "7zrmmK2pJaG9"
      },
      "outputs": [],
      "source": [
        "movies_video , movies_labels = extract_frames_difference(dtframe2,189,199)"
      ]
    },
    {
      "cell_type": "code",
      "execution_count": null,
      "metadata": {
        "id": "hBLOsv-9JaHI"
      },
      "outputs": [],
      "source": [
        "print(hockey_video.shape)\n",
        "print(hockey_labels.shape)\n",
        "\n",
        "print(movies_video.shape)\n",
        "print(movies_labels.shape)"
      ]
    },
    {
      "cell_type": "code",
      "execution_count": null,
      "metadata": {
        "id": "kybxJ894GHP0"
      },
      "outputs": [],
      "source": [
        "'''\n",
        "  Defining the second model which uses the difference between frames to classify the action\n",
        "'''\n",
        "def CNN_CONVLSTM(model_arch, opt, retrain ,init_weights = 'imagenet'):\n",
        "\n",
        "    input_shapes=(int(NUMBER_OF_FRAMES/2),IMAGE_SIZE,IMAGE_SIZE,3)\n",
        "\n",
        "    if model_arch is 'Vgg19':\n",
        "      base_model=VGG19(include_top=False,weights= init_weights ,input_shape=(IMAGE_SIZE, IMAGE_SIZE,3))\n",
        "    elif model_arch is 'Resnet':\n",
        "      base_model = ResNet50(include_top=False,weights=init_weights ,input_shape=(IMAGE_SIZE, IMAGE_SIZE,3))\n",
        "\n",
        "    for layer in base_model.layers:\n",
        "        layer.trainable = retrain\n",
        "\n",
        "    cnn = TimeDistributed(base_model,  input_shape=input_shapes)\n",
        "    \n",
        "    model = Sequential()\n",
        "    model.add(cnn)\n",
        "    #model.add(TimeDistributed(Flatten()))\n",
        "\n",
        "    \n",
        "    model.add(ConvLSTM2D(filters=20, kernel_size=(3, 3),return_sequences=True))\n",
        "    model.add(Flatten())\n",
        "    model.add(BatchNormalization())\n",
        "    model.add(Dense(256, activation='relu'))\n",
        "    model.add(BatchNormalization())\n",
        "    model.add(Dropout(0.5))\n",
        "    model.add(Dense(128, activation='relu'))\n",
        "    model.add(BatchNormalization())\n",
        "    model.add(Dense(1, activation=\"sigmoid\"))\n",
        "\n",
        "    if opt is 'Adam':\n",
        "      opti = Adam(lr=0.00001)\n",
        "    elif opt is 'Sgd':\n",
        "      opti = SGD(lr=0.00001)\n",
        "    elif opt is 'RMSprop':\n",
        "      opti = RMSprop(lr=0.00001)\n",
        "\n",
        "    model.compile(loss='BinaryCrossentropy', optimizer= opti, metrics=[\"accuracy\"])\n",
        "\n",
        "    return model"
      ]
    },
    {
      "cell_type": "code",
      "execution_count": null,
      "metadata": {
        "id": "aNlyliWvJNSI"
      },
      "outputs": [],
      "source": [
        "diff_vgg_rmsprop_retrain = CNN_CONVLSTM('Vgg19', 'RMSprop', True)\n",
        "diff_vgg_rmsprop_retrain_history = diff_vgg_rmsprop_retrain.fit(fvideo,flabels, batch_size=10, epochs=20, validation_data=(tvideo , tlabels))"
      ]
    },
    {
      "cell_type": "code",
      "execution_count": null,
      "metadata": {
        "id": "FY_GW7or0sNQ"
      },
      "outputs": [],
      "source": [
        "diff_vgg_rmsprop_retrain.save(\"/drive/MyDrive/Colab\\ Notebooks/model/ViolenceDetection.h5\")"
      ]
    },
    {
      "cell_type": "code",
      "execution_count": null,
      "metadata": {
        "id": "ZEtec3QvtbWF"
      },
      "outputs": [],
      "source": [
        "from google.colab import drive\n",
        "drive.mount('/content/drive')"
      ]
    },
    {
      "cell_type": "code",
      "execution_count": null,
      "metadata": {
        "id": "NSaqxKANLzmm"
      },
      "outputs": [],
      "source": [
        "plot_results(diff_vgg_rmsprop_retrain_history)"
      ]
    },
    {
      "cell_type": "code",
      "execution_count": null,
      "metadata": {
        "id": "DTkEWNy6L4CI"
      },
      "outputs": [],
      "source": [
        "val_results(diff_vgg_rmsprop_retrain)"
      ]
    },
    {
      "cell_type": "code",
      "execution_count": null,
      "metadata": {
        "id": "d1oAjiDlN1Uz"
      },
      "outputs": [],
      "source": [
        "diff_vgg_rmsprop_static = CNN_CONVLSTM('Vgg19', 'RMSprop', False)\n",
        "diff_vgg_rmsprop_static_history = diff_vgg_rmsprop_static.fit(fvideo,flabels, batch_size=10, epochs=20, validation_data=(tvideo , tlabels))"
      ]
    },
    {
      "cell_type": "code",
      "execution_count": null,
      "metadata": {
        "id": "ZsAQ5D0yEoRR"
      },
      "outputs": [],
      "source": [
        "plot_results(diff_vgg_rmsprop_static_history)"
      ]
    },
    {
      "cell_type": "code",
      "execution_count": null,
      "metadata": {
        "id": "Yy8_K1kbErlB"
      },
      "outputs": [],
      "source": [
        "val_results(diff_vgg_rmsprop_static)"
      ]
    },
    {
      "cell_type": "code",
      "execution_count": null,
      "metadata": {
        "id": "lR-cnx5KEt4y"
      },
      "outputs": [],
      "source": [
        "diff_vgg_adam_retrain = CNN_CONVLSTM('Vgg19', 'Adam', True)\n",
        "diff_vgg_adam_retrain_history = diff_vgg_adam_retrain.fit(fvideo,flabels, batch_size=10, epochs=20, validation_data=(tvideo , tlabels))"
      ]
    },
    {
      "cell_type": "code",
      "execution_count": null,
      "metadata": {
        "id": "gQnQpaK0QeX3"
      },
      "outputs": [],
      "source": [
        "plot_results(diff_vgg_adam_retrain_history)"
      ]
    },
    {
      "cell_type": "code",
      "execution_count": null,
      "metadata": {
        "id": "cN2ShAo7Qjrg"
      },
      "outputs": [],
      "source": [
        "val_results(diff_vgg_adam_retrain)"
      ]
    },
    {
      "cell_type": "code",
      "execution_count": null,
      "metadata": {
        "id": "8c2PisUJLM9V"
      },
      "outputs": [],
      "source": [
        "diff_resnet_rmsprop_retrain = CNN_CONVLSTM('Resnet', 'RMSprop', True)\n",
        "diff_resnet_rmsprop_retrain_history = diff_resnet_rmsprop_retrain.fit(fvideo,flabels, batch_size=20, epochs=20, validation_data=(tvideo , tlabels))"
      ]
    },
    {
      "cell_type": "code",
      "execution_count": null,
      "metadata": {
        "id": "ym5a3_qBSD1c"
      },
      "outputs": [],
      "source": [
        "plot_results(diff_resnet_rmsprop_retrain_history)"
      ]
    },
    {
      "cell_type": "code",
      "execution_count": null,
      "metadata": {
        "id": "AM-ctFYdSGSU"
      },
      "outputs": [],
      "source": [
        "val_results(diff_resnet_rmsprop_retrain)"
      ]
    }
  ]
}