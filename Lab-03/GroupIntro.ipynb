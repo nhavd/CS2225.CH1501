{
  "nbformat": 4,
  "nbformat_minor": 0,
  "metadata": {
    "colab": {
      "name": "GroupIntro.ipynb",
      "provenance": [],
      "collapsed_sections": [],
      "authorship_tag": "ABX9TyOf2+ndnp/5/M3I26wXpm5I",
      "include_colab_link": true
    },
    "kernelspec": {
      "name": "python3",
      "display_name": "Python 3"
    }
  },
  "cells": [
    {
      "cell_type": "markdown",
      "metadata": {
        "id": "view-in-github",
        "colab_type": "text"
      },
      "source": [
        "<a href=\"https://colab.research.google.com/github/nhavd/CS2225.CH1501/blob/master/GroupIntro.ipynb\" target=\"_parent\"><img src=\"https://colab.research.google.com/assets/colab-badge.svg\" alt=\"Open In Colab\"/></a>"
      ]
    },
    {
      "cell_type": "code",
      "metadata": {
        "id": "70OAIM4bd3hi",
        "colab_type": "code",
        "colab": {}
      },
      "source": [
        "\"\"\"\n",
        "Visual Recognition and Applications - GROUP N009\n",
        "\n",
        "Member:\n",
        "  CH1801024 Pham Duc Duy duypd.13@grad.uit.edu.vn *\n",
        "  CH1901005 Dong Dang Khoa khoadd.14@grad.uit.edu.vn *\n",
        "  CH1901025 Vo Dinh Nha nhavd.14@grad.uit.edu.vn *\n",
        "\n",
        "\"\"\""
      ],
      "execution_count": null,
      "outputs": []
    }
  ]
}