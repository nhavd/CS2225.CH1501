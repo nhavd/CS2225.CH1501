{
  "nbformat": 4,
  "nbformat_minor": 0,
  "metadata": {
    "colab": {
      "name": "AgePrediction.ipynb",
      "provenance": [],
      "collapsed_sections": [],
      "authorship_tag": "ABX9TyPmRq7P+he/VQq7rhQTV+DO",
      "include_colab_link": true
    },
    "kernelspec": {
      "name": "python3",
      "display_name": "Python 3"
    }
  },
  "cells": [
    {
      "cell_type": "markdown",
      "metadata": {
        "id": "view-in-github",
        "colab_type": "text"
      },
      "source": [
        "<a href=\"https://colab.research.google.com/github/nhavd/CS2225.CH1501/blob/master/Lab-04/AgePrediction.ipynb\" target=\"_parent\"><img src=\"https://colab.research.google.com/assets/colab-badge.svg\" alt=\"Open In Colab\"/></a>"
      ]
    },
    {
      "source": [
        "# Add opencv-age-detection into Colab"
      ],
      "cell_type": "markdown",
      "metadata": {}
    },
    {
      "cell_type": "code",
      "execution_count": null,
      "metadata": {},
      "outputs": [],
      "source": [
        "!git clone https://github.com/nhavd/CS2225.CH1501.git"
      ]
    },
    {
      "cell_type": "markdown",
      "metadata": {
        "id": "L92FA32QwVKd"
      },
      "source": [
        "# Import Libraries"
      ]
    },
    {
      "cell_type": "code",
      "metadata": {
        "id": "GYZ9z1bztpCy"
      },
      "source": [
        "import numpy as np\n",
        "import argparse\n",
        "import cv2\n",
        "import os"
      ],
      "execution_count": null,
      "outputs": []
    },
    {
      "source": [
        "# Get path and declare variables"
      ],
      "cell_type": "markdown",
      "metadata": {}
    },
    {
      "cell_type": "code",
      "execution_count": null,
      "metadata": {},
      "outputs": [],
      "source": [
        "face_path = \"/content/CS2225.CH1501/Lab-04/opencv-age-detection/face_detector\"\n",
        "age_path = \"/content/CS2225.CH1501/Lab-04/opencv-age-detection/age_detector\"\n",
        "image_path = \"/content/CS2225.CH1501/Lab-04/opencv-age-detection/images/adrian.png\"\n",
        "_confidence = 0.5"
      ]
    },
    {
      "source": [
        "# Take a photo from camera"
      ],
      "cell_type": "markdown",
      "metadata": {}
    },
    {
      "cell_type": "code",
      "metadata": {
        "id": "EaLOTJ4PvDTD"
      },
      "source": [
        "from IPython.display import display, Javascript\n",
        "from google.colab.output import eval_js\n",
        "from base64 import b64decode\n",
        "\n",
        "def take_photo(filename=image_path, quality=0.8):\n",
        "  js = Javascript('''\n",
        "    async function takePhoto(quality) {\n",
        "      const div = document.createElement('div');\n",
        "      const capture = document.createElement('button');\n",
        "      capture.textContent = 'Capture';\n",
        "      div.appendChild(capture);\n",
        "\n",
        "      const video = document.createElement('video');\n",
        "      video.style.display = 'block';\n",
        "      const stream = await navigator.mediaDevices.getUserMedia({video: true});\n",
        "\n",
        "      document.body.appendChild(div);\n",
        "      div.appendChild(video);\n",
        "      video.srcObject = stream;\n",
        "      await video.play();\n",
        "\n",
        "      // Resize the output to fit the video element.\n",
        "      google.colab.output.setIframeHeight(document.documentElement.scrollHeight, true);\n",
        "\n",
        "      // Wait for Capture to be clicked.\n",
        "      await new Promise((resolve) => capture.onclick = resolve);\n",
        "\n",
        "      const canvas = document.createElement('canvas');\n",
        "      canvas.width = video.videoWidth;\n",
        "      canvas.height = video.videoHeight;\n",
        "      canvas.getContext('2d').drawImage(video, 0, 0);\n",
        "      stream.getVideoTracks()[0].stop();\n",
        "      div.remove();\n",
        "      return canvas.toDataURL('image/jpeg', quality);\n",
        "    }\n",
        "    ''')\n",
        "  display(js)\n",
        "  data = eval_js('takePhoto({})'.format(quality))\n",
        "  binary = b64decode(data.split(',')[1])\n",
        "  with open(filename, 'wb') as f:\n",
        "    f.write(binary)\n",
        "  return filename"
      ],
      "execution_count": null,
      "outputs": []
    },
    {
      "cell_type": "code",
      "metadata": {
        "id": "Z-6EAyfCvDSJ"
      },
      "source": [
        "from IPython.display import Image\n",
        "try:\n",
        "  filename = take_photo()\n",
        "  print('Saved to {}'.format(filename))\n",
        "  \n",
        "  # Show the image which was just taken.\n",
        "  display(Image(filename))\n",
        "except Exception as err:\n",
        "  # Errors will be thrown if the user does not have a webcam or if they do not\n",
        "  # grant the page permission to access it.\n",
        "  print(str(err))"
      ],
      "execution_count": null,
      "outputs": []
    },
    {
      "source": [
        "# Define the list of age buckets our age detector will predict"
      ],
      "cell_type": "markdown",
      "metadata": {}
    },
    {
      "cell_type": "code",
      "execution_count": null,
      "metadata": {},
      "outputs": [],
      "source": [
        "AGE_BUCKETS = [\"(0-2)\", \"(4-6)\", \"(8-12)\", \"(15-20)\", \"(25-32)\", \"(38-43)\", \"(48-53)\", \"(60-100)\"]"
      ]
    },
    {
      "source": [
        "# Load our serialized face detector model from disk"
      ],
      "cell_type": "markdown",
      "metadata": {}
    },
    {
      "cell_type": "code",
      "execution_count": null,
      "metadata": {},
      "outputs": [],
      "source": [
        "print(\"[INFO] loading face detector model...\")\n",
        "prototxtPath = face_path + \"/deploy.prototxt\"\n",
        "weightsPath = face_path + \"/res10_300x300_ssd_iter_140000.caffemodel\"\n",
        "print(weightsPath)\n",
        "faceNet = cv2.dnn.readNet(prototxtPath, weightsPath)"
      ]
    },
    {
      "source": [
        "# Load our serialized age detector model from disk"
      ],
      "cell_type": "markdown",
      "metadata": {}
    },
    {
      "cell_type": "code",
      "execution_count": null,
      "metadata": {},
      "outputs": [],
      "source": [
        "print(\"[INFO] loading age detector model...\")\n",
        "prototxtPath = age_path +  \"/age_deploy.prototxt\"\n",
        "weightsPath = age_path + \"/age_net.caffemodel\"\n",
        "ageNet = cv2.dnn.readNet(prototxtPath, weightsPath)"
      ]
    },
    {
      "source": [
        "# Load the input image and construct an input blob for the image"
      ],
      "cell_type": "markdown",
      "metadata": {}
    },
    {
      "cell_type": "code",
      "execution_count": null,
      "metadata": {},
      "outputs": [],
      "source": [
        "from google.colab.patches import cv2_imshow\n",
        "\n",
        "image = cv2.imread(image_path)\n",
        "(h, w) = image.shape[:2]\n",
        "blob = cv2.dnn.blobFromImage(image, 1.0, (300, 300), (104.0, 177.0, 123.0))"
      ]
    },
    {
      "source": [
        "# Pass the blob through the network and obtain the face detections"
      ],
      "cell_type": "markdown",
      "metadata": {}
    },
    {
      "cell_type": "code",
      "execution_count": null,
      "metadata": {},
      "outputs": [],
      "source": [
        "print(\"[INFO] computing face detections...\")\n",
        "faceNet.setInput(blob)\n",
        "detections = faceNet.forward()"
      ]
    },
    {
      "cell_type": "code",
      "metadata": {
        "id": "k90QSvt7hvUc",
        "outputId": "128f294a-d8d1-40d7-ec2f-43f300e0f8cc",
        "colab": {
          "base_uri": "https://localhost:8080/",
          "height": 616
        }
      },
      "source": [
        "# loop over the detections\n",
        "for i in range(0, detections.shape[2]):\n",
        "  # print(\"value:   \", detections.shape[2])\n",
        "\t# extract the confidence (i.e., probability) associated with the\n",
        "\t# prediction\n",
        "\tconfidence = detections[0, 0, i, 2]\n",
        "\n",
        "\t# filter out weak detections by ensuring the confidence is\n",
        "\t# greater than the minimum confidence\n",
        "\tif confidence > _confidence:\n",
        "\t\t# compute the (x, y)-coordinates of the bounding box for the\n",
        "\t\t# object\n",
        "\t\tbox = detections[0, 0, i, 3:7] * np.array([w, h, w, h])\n",
        "\t\t(startX, startY, endX, endY) = box.astype(\"int\")\n",
        "\n",
        "\t\t# extract the ROI of the face and then construct a blob from\n",
        "\t\t# *only* the face ROI\n",
        "\t\tface = image[startY:endY, startX:endX]\n",
        "\t\tfaceBlob = cv2.dnn.blobFromImage(face, 1.0, (227, 227),\n",
        "\t\t\t(78.4263377603, 87.7689143744, 114.895847746),\n",
        "\t\t\tswapRB=False)\n",
        "\n",
        "\t\t# make predictions on the age and find the age bucket with\n",
        "\t\t# the largest corresponding probability\n",
        "\t\tageNet.setInput(faceBlob)\n",
        "\t\tpreds = ageNet.forward()\n",
        "\t\ti = preds[0].argmax()\n",
        "\t\tage = AGE_BUCKETS[i]\n",
        "\t\tageConfidence = preds[0][i]\n",
        "\n",
        "\t\t# display the predicted age to our terminal\n",
        "\t\ttext = \"{}: {:.2f}%\".format(age, ageConfidence * 100)\n",
        "\t\tprint(\"[INFO] {}\".format(text))\n",
        "\n",
        "\t\t# draw the bounding box of the face along with the associated\n",
        "\t\t# predicted age\n",
        "\t\ty = startY - 10 if startY - 10 > 10 else startY + 10\n",
        "\t\tcv2.rectangle(image, (startX, startY), (endX, endY),\n",
        "\t\t\t(0, 0, 255), 2)\n",
        "\t\tcv2.putText(image, text, (startX, y),\n",
        "\t\t\tcv2.FONT_HERSHEY_SIMPLEX, 0.45, (0, 0, 255), 2)"
      ],
      "execution_count": null,
      "outputs": []
    },
    {
      "source": [
        "# Display the output image"
      ],
      "cell_type": "markdown",
      "metadata": {}
    },
    {
      "cell_type": "code",
      "metadata": {
        "id": "EyaY-fMPyV3V"
      },
      "source": [
        "cv2_imshow(image)\n",
        "cv2.waitKey(0)"
      ],
      "execution_count": null,
      "outputs": []
    }
  ]
}