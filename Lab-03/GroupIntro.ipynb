{
  "nbformat": 4,
  "nbformat_minor": 0,
  "metadata": {
    "colab": {
      "name": "GroupIntro.ipynb",
      "provenance": [],
      "collapsed_sections": [],
      "include_colab_link": true
    },
    "kernelspec": {
      "name": "python3",
      "display_name": "Python 3"
    }
  },
  "cells": [
    {
      "cell_type": "markdown",
      "metadata": {
        "id": "view-in-github",
        "colab_type": "text"
      },
      "source": [
        "<a href=\"https://colab.research.google.com/github/nhavd/CS2225.CH1501/blob/master/Lab-03/GroupIntro.ipynb\" target=\"_parent\"><img src=\"https://colab.research.google.com/assets/colab-badge.svg\" alt=\"Open In Colab\"/></a>"
      ]
    },
    {
      "cell_type": "markdown",
      "metadata": {
        "id": "-fPq1YgmtAYu",
        "colab_type": "text"
      },
      "source": [
        "## Visual Recognition and Applications - GROUP N009\n",
        "\n",
        "1. CH1801024 Pham Duc Duy duypd.13@grad.uit.edu.vn\n",
        "2. CH1901005 Dong Dang Khoa khoadd.14@grad.uit.edu.vn\n",
        "3. CH1901025 Vo Dinh Nha nhavd.14@grad.uit.edu.vn"
      ]
    },
    {
      "cell_type": "code",
      "metadata": {
        "id": "sAahCQvStLNQ",
        "colab_type": "code",
        "colab": {}
      },
      "source": [
        ""
      ],
      "execution_count": null,
      "outputs": []
    }
  ]
}